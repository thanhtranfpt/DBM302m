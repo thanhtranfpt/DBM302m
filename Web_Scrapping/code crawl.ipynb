{
 "cells": [
  {
   "cell_type": "code",
   "execution_count": 1,
   "metadata": {},
   "outputs": [],
   "source": [
    "import json\n",
    "import pandas as pd\n",
    "import requests\n",
    "from tqdm.notebook import tqdm"
   ]
  },
  {
   "cell_type": "code",
   "execution_count": 2,
   "metadata": {},
   "outputs": [
    {
     "data": {
      "text/plain": [
       "['products1.json',\n",
       " 'products2.json',\n",
       " 'products3.json',\n",
       " 'products4.json',\n",
       " 'products5.json']"
      ]
     },
     "execution_count": 2,
     "metadata": {},
     "output_type": "execute_result"
    }
   ],
   "source": [
    "json_files = [f'products{i}.json' for i in range(1, 6)]\n",
    "json_files"
   ]
  },
  {
   "cell_type": "code",
   "execution_count": 13,
   "metadata": {},
   "outputs": [
    {
     "data": {
      "text/html": [
       "<div>\n",
       "<style scoped>\n",
       "    .dataframe tbody tr th:only-of-type {\n",
       "        vertical-align: middle;\n",
       "    }\n",
       "\n",
       "    .dataframe tbody tr th {\n",
       "        vertical-align: top;\n",
       "    }\n",
       "\n",
       "    .dataframe thead th {\n",
       "        text-align: right;\n",
       "    }\n",
       "</style>\n",
       "<table border=\"1\" class=\"dataframe\">\n",
       "  <thead>\n",
       "    <tr style=\"text-align: right;\">\n",
       "      <th></th>\n",
       "      <th>item_id</th>\n",
       "      <th>shop_id</th>\n",
       "      <th>comment</th>\n",
       "      <th>rating</th>\n",
       "    </tr>\n",
       "  </thead>\n",
       "  <tbody>\n",
       "  </tbody>\n",
       "</table>\n",
       "</div>"
      ],
      "text/plain": [
       "Empty DataFrame\n",
       "Columns: [item_id, shop_id, comment, rating]\n",
       "Index: []"
      ]
     },
     "execution_count": 13,
     "metadata": {},
     "output_type": "execute_result"
    }
   ],
   "source": [
    "df = pd.DataFrame(columns=['item_id', 'shop_id', 'comment', 'rating'])\n",
    "df"
   ]
  },
  {
   "cell_type": "code",
   "execution_count": 14,
   "metadata": {},
   "outputs": [
    {
     "name": "stdout",
     "output_type": "stream",
     "text": [
      "Processing: products1.json ...\n"
     ]
    },
    {
     "data": {
      "application/vnd.jupyter.widget-view+json": {
       "model_id": "63aebc62d7ff46738da0b0cac572f361",
       "version_major": 2,
       "version_minor": 0
      },
      "text/plain": [
       "  0%|          | 0/500 [00:00<?, ?it/s]"
      ]
     },
     "metadata": {},
     "output_type": "display_data"
    },
    {
     "name": "stdout",
     "output_type": "stream",
     "text": [
      "Processing: products2.json ...\n"
     ]
    },
    {
     "data": {
      "application/vnd.jupyter.widget-view+json": {
       "model_id": "5cd5d960425b4c64b142a593f7ca7bd9",
       "version_major": 2,
       "version_minor": 0
      },
      "text/plain": [
       "  0%|          | 0/500 [00:00<?, ?it/s]"
      ]
     },
     "metadata": {},
     "output_type": "display_data"
    }
   ],
   "source": [
    "for json_file in json_files[:2]:\n",
    "    print(f'Processing: {json_file} ...')\n",
    "    data = json.load(open(json_file, encoding='UTF-8'))\n",
    "    products = data['data']['sections'][0]['data']['item']\n",
    "    for product in tqdm(products):\n",
    "        item_id = product['itemid']\n",
    "        shop_id = product['shopid']\n",
    "        url = f\"https://shopee.vn/api/v2/item/get_ratings?itemid={item_id}&limit=50&offset=50&shopid={shop_id}\"\n",
    "        response = requests.get(url=url)\n",
    "        response_data = response.json()\n",
    "        ratings = response_data['data']['ratings']\n",
    "        if ratings is None:\n",
    "            continue\n",
    "\n",
    "        for rating in ratings:\n",
    "            comment = rating['comment']\n",
    "            rating_star = rating['rating_star']\n",
    "            df.loc[len(df)] = {\n",
    "                'item_id': item_id,\n",
    "                'shop_id': shop_id,\n",
    "                'comment': comment,\n",
    "                'rating': rating_star\n",
    "            }"
   ]
  },
  {
   "cell_type": "code",
   "execution_count": 15,
   "metadata": {},
   "outputs": [
    {
     "data": {
      "text/html": [
       "<div>\n",
       "<style scoped>\n",
       "    .dataframe tbody tr th:only-of-type {\n",
       "        vertical-align: middle;\n",
       "    }\n",
       "\n",
       "    .dataframe tbody tr th {\n",
       "        vertical-align: top;\n",
       "    }\n",
       "\n",
       "    .dataframe thead th {\n",
       "        text-align: right;\n",
       "    }\n",
       "</style>\n",
       "<table border=\"1\" class=\"dataframe\">\n",
       "  <thead>\n",
       "    <tr style=\"text-align: right;\">\n",
       "      <th></th>\n",
       "      <th>item_id</th>\n",
       "      <th>shop_id</th>\n",
       "      <th>comment</th>\n",
       "      <th>rating</th>\n",
       "    </tr>\n",
       "  </thead>\n",
       "  <tbody>\n",
       "    <tr>\n",
       "      <th>0</th>\n",
       "      <td>21694828011</td>\n",
       "      <td>405987583</td>\n",
       "      <td>Giao hàng nhanh đóng gói cẩn thận mọi người nê...</td>\n",
       "      <td>5</td>\n",
       "    </tr>\n",
       "    <tr>\n",
       "      <th>1</th>\n",
       "      <td>21694828011</td>\n",
       "      <td>405987583</td>\n",
       "      <td>Sản phẩm đẹp, shop giao đúng hàng, vận chuyển ...</td>\n",
       "      <td>5</td>\n",
       "    </tr>\n",
       "    <tr>\n",
       "      <th>2</th>\n",
       "      <td>21694828011</td>\n",
       "      <td>405987583</td>\n",
       "      <td>Đã nhận đủ số lượng hàng, đóng gói cẩn thận, s...</td>\n",
       "      <td>5</td>\n",
       "    </tr>\n",
       "    <tr>\n",
       "      <th>3</th>\n",
       "      <td>21694828011</td>\n",
       "      <td>405987583</td>\n",
       "      <td>Chất lượng sản phẩm:ok\\nĐúng với mô tả:ok\\n\\nC...</td>\n",
       "      <td>4</td>\n",
       "    </tr>\n",
       "    <tr>\n",
       "      <th>4</th>\n",
       "      <td>21694828011</td>\n",
       "      <td>405987583</td>\n",
       "      <td>Chất lượng sản phẩm:chua ro\\nĐúng với mô tả:đú...</td>\n",
       "      <td>5</td>\n",
       "    </tr>\n",
       "    <tr>\n",
       "      <th>...</th>\n",
       "      <td>...</td>\n",
       "      <td>...</td>\n",
       "      <td>...</td>\n",
       "      <td>...</td>\n",
       "    </tr>\n",
       "    <tr>\n",
       "      <th>48373</th>\n",
       "      <td>3320845775</td>\n",
       "      <td>8778931</td>\n",
       "      <td>Shop giao hàng đầy đủ đúng tất cả các loại mìn...</td>\n",
       "      <td>5</td>\n",
       "    </tr>\n",
       "    <tr>\n",
       "      <th>48374</th>\n",
       "      <td>3320845775</td>\n",
       "      <td>8778931</td>\n",
       "      <td>Nạ ok.ko thấy kích ứng hay gì cả.thường thì đắ...</td>\n",
       "      <td>5</td>\n",
       "    </tr>\n",
       "    <tr>\n",
       "      <th>48375</th>\n",
       "      <td>3320845775</td>\n",
       "      <td>8778931</td>\n",
       "      <td>Vừa đặt &amp; giao trong buổi sáng, đủ số lượng, đ...</td>\n",
       "      <td>5</td>\n",
       "    </tr>\n",
       "    <tr>\n",
       "      <th>48376</th>\n",
       "      <td>3320845775</td>\n",
       "      <td>8778931</td>\n",
       "      <td>Shop giao hàng đủ , sản phẩm chất lượng , dùng...</td>\n",
       "      <td>5</td>\n",
       "    </tr>\n",
       "    <tr>\n",
       "      <th>48377</th>\n",
       "      <td>3320845775</td>\n",
       "      <td>8778931</td>\n",
       "      <td>Công dụng:đẹp da\\nDành cho da:moi loai da\\nMùi...</td>\n",
       "      <td>5</td>\n",
       "    </tr>\n",
       "  </tbody>\n",
       "</table>\n",
       "<p>48378 rows × 4 columns</p>\n",
       "</div>"
      ],
      "text/plain": [
       "           item_id    shop_id  \\\n",
       "0      21694828011  405987583   \n",
       "1      21694828011  405987583   \n",
       "2      21694828011  405987583   \n",
       "3      21694828011  405987583   \n",
       "4      21694828011  405987583   \n",
       "...            ...        ...   \n",
       "48373   3320845775    8778931   \n",
       "48374   3320845775    8778931   \n",
       "48375   3320845775    8778931   \n",
       "48376   3320845775    8778931   \n",
       "48377   3320845775    8778931   \n",
       "\n",
       "                                                 comment  rating  \n",
       "0      Giao hàng nhanh đóng gói cẩn thận mọi người nê...       5  \n",
       "1      Sản phẩm đẹp, shop giao đúng hàng, vận chuyển ...       5  \n",
       "2      Đã nhận đủ số lượng hàng, đóng gói cẩn thận, s...       5  \n",
       "3      Chất lượng sản phẩm:ok\\nĐúng với mô tả:ok\\n\\nC...       4  \n",
       "4      Chất lượng sản phẩm:chua ro\\nĐúng với mô tả:đú...       5  \n",
       "...                                                  ...     ...  \n",
       "48373  Shop giao hàng đầy đủ đúng tất cả các loại mìn...       5  \n",
       "48374  Nạ ok.ko thấy kích ứng hay gì cả.thường thì đắ...       5  \n",
       "48375  Vừa đặt & giao trong buổi sáng, đủ số lượng, đ...       5  \n",
       "48376  Shop giao hàng đủ , sản phẩm chất lượng , dùng...       5  \n",
       "48377  Công dụng:đẹp da\\nDành cho da:moi loai da\\nMùi...       5  \n",
       "\n",
       "[48378 rows x 4 columns]"
      ]
     },
     "execution_count": 15,
     "metadata": {},
     "output_type": "execute_result"
    }
   ],
   "source": [
    "df"
   ]
  },
  {
   "cell_type": "code",
   "execution_count": 16,
   "metadata": {},
   "outputs": [],
   "source": [
    "df.to_csv('comments_12_with_rating.csv', index=False)"
   ]
  },
  {
   "cell_type": "code",
   "execution_count": null,
   "metadata": {},
   "outputs": [],
   "source": []
  }
 ],
 "metadata": {
  "kernelspec": {
   "display_name": "data_science",
   "language": "python",
   "name": "python3"
  },
  "language_info": {
   "codemirror_mode": {
    "name": "ipython",
    "version": 3
   },
   "file_extension": ".py",
   "mimetype": "text/x-python",
   "name": "python",
   "nbconvert_exporter": "python",
   "pygments_lexer": "ipython3",
   "version": "3.11.5"
  }
 },
 "nbformat": 4,
 "nbformat_minor": 2
}
