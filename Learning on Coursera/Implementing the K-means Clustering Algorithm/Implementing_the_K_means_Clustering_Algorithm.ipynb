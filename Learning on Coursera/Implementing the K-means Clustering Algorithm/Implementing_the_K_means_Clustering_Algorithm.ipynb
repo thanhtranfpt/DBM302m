{
  "nbformat": 4,
  "nbformat_minor": 0,
  "metadata": {
    "colab": {
      "provenance": []
    },
    "kernelspec": {
      "name": "python3",
      "display_name": "Python 3"
    },
    "language_info": {
      "name": "python"
    }
  },
  "cells": [
    {
      "cell_type": "code",
      "execution_count": 1,
      "metadata": {
        "id": "7TK-ChEC677o"
      },
      "outputs": [],
      "source": [
        "import numpy as np\n",
        "\n",
        "def read_data(filename):\n",
        "    with open(filename, 'r') as file:\n",
        "        data = [list(map(float, line.strip().split(','))) for line in file]\n",
        "    return np.array(data)\n",
        "\n",
        "def euclidean_distance(point1, point2):\n",
        "    return np.sqrt(np.sum((point1 - point2) ** 2))\n",
        "\n",
        "def assign_clusters(data, centroids):\n",
        "    clusters = []\n",
        "    for point in data:\n",
        "        distances = [euclidean_distance(point, centroid) for centroid in centroids]\n",
        "        cluster = np.argmin(distances)\n",
        "        clusters.append(cluster)\n",
        "    return np.array(clusters)\n",
        "\n",
        "def update_centroids(data, clusters, k):\n",
        "    centroids = []\n",
        "    for i in range(k):\n",
        "        cluster_points = data[clusters == i]\n",
        "        centroid = np.mean(cluster_points, axis=0)\n",
        "        centroids.append(centroid)\n",
        "    return np.array(centroids)\n",
        "\n",
        "def k_means(data, k, max_iterations=100):\n",
        "    # Initialize centroids randomly\n",
        "    np.random.seed(0)\n",
        "    centroids = data[np.random.choice(len(data), k, replace=False)]\n",
        "\n",
        "    for _ in range(max_iterations):\n",
        "        # Assign points to the nearest centroid\n",
        "        clusters = assign_clusters(data, centroids)\n",
        "\n",
        "        # Update centroids\n",
        "        new_centroids = update_centroids(data, clusters, k)\n",
        "\n",
        "        # Check for convergence\n",
        "        if np.array_equal(new_centroids, centroids):\n",
        "            break\n",
        "\n",
        "        centroids = new_centroids\n",
        "\n",
        "    return clusters\n",
        "\n",
        "def write_clusters(clusters, filename):\n",
        "    with open(filename, 'w') as file:\n",
        "        for idx, cluster in enumerate(clusters):\n",
        "            file.write(f\"{idx} {cluster}\\n\")\n",
        "\n",
        "if __name__ == \"__main__\":\n",
        "    # Read data\n",
        "    data = read_data(\"places.txt\")\n",
        "\n",
        "    # Perform k-means clustering\n",
        "    clusters = k_means(data, k=3)\n",
        "\n",
        "    # Write cluster labels to output file\n",
        "    write_clusters(clusters, \"clusters.txt\")\n"
      ]
    },
    {
      "cell_type": "code",
      "source": [],
      "metadata": {
        "id": "m71T853v7L1_"
      },
      "execution_count": null,
      "outputs": []
    }
  ]
}